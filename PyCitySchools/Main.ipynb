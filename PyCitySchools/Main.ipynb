{
 "cells": [
  {
   "cell_type": "code",
   "execution_count": 1,
   "id": "75f11429",
   "metadata": {},
   "outputs": [],
   "source": [
    "# Dependencies and Setup\n",
    "import pandas as pd"
   ]
  },
  {
   "cell_type": "code",
   "execution_count": 2,
   "id": "1f073ce4",
   "metadata": {},
   "outputs": [
    {
     "data": {
      "text/html": [
       "<div>\n",
       "<style scoped>\n",
       "    .dataframe tbody tr th:only-of-type {\n",
       "        vertical-align: middle;\n",
       "    }\n",
       "\n",
       "    .dataframe tbody tr th {\n",
       "        vertical-align: top;\n",
       "    }\n",
       "\n",
       "    .dataframe thead th {\n",
       "        text-align: right;\n",
       "    }\n",
       "</style>\n",
       "<table border=\"1\" class=\"dataframe\">\n",
       "  <thead>\n",
       "    <tr style=\"text-align: right;\">\n",
       "      <th></th>\n",
       "      <th>Student ID</th>\n",
       "      <th>student_name</th>\n",
       "      <th>gender</th>\n",
       "      <th>grade</th>\n",
       "      <th>school_name</th>\n",
       "      <th>reading_score</th>\n",
       "      <th>math_score</th>\n",
       "      <th>School ID</th>\n",
       "      <th>type</th>\n",
       "      <th>size</th>\n",
       "      <th>budget</th>\n",
       "    </tr>\n",
       "  </thead>\n",
       "  <tbody>\n",
       "    <tr>\n",
       "      <th>0</th>\n",
       "      <td>0</td>\n",
       "      <td>Paul Bradley</td>\n",
       "      <td>M</td>\n",
       "      <td>9th</td>\n",
       "      <td>Huang High School</td>\n",
       "      <td>66</td>\n",
       "      <td>79</td>\n",
       "      <td>0</td>\n",
       "      <td>District</td>\n",
       "      <td>2917</td>\n",
       "      <td>1910635</td>\n",
       "    </tr>\n",
       "    <tr>\n",
       "      <th>1</th>\n",
       "      <td>1</td>\n",
       "      <td>Victor Smith</td>\n",
       "      <td>M</td>\n",
       "      <td>12th</td>\n",
       "      <td>Huang High School</td>\n",
       "      <td>94</td>\n",
       "      <td>61</td>\n",
       "      <td>0</td>\n",
       "      <td>District</td>\n",
       "      <td>2917</td>\n",
       "      <td>1910635</td>\n",
       "    </tr>\n",
       "    <tr>\n",
       "      <th>2</th>\n",
       "      <td>2</td>\n",
       "      <td>Kevin Rodriguez</td>\n",
       "      <td>M</td>\n",
       "      <td>12th</td>\n",
       "      <td>Huang High School</td>\n",
       "      <td>90</td>\n",
       "      <td>60</td>\n",
       "      <td>0</td>\n",
       "      <td>District</td>\n",
       "      <td>2917</td>\n",
       "      <td>1910635</td>\n",
       "    </tr>\n",
       "    <tr>\n",
       "      <th>3</th>\n",
       "      <td>3</td>\n",
       "      <td>Dr. Richard Scott</td>\n",
       "      <td>M</td>\n",
       "      <td>12th</td>\n",
       "      <td>Huang High School</td>\n",
       "      <td>67</td>\n",
       "      <td>58</td>\n",
       "      <td>0</td>\n",
       "      <td>District</td>\n",
       "      <td>2917</td>\n",
       "      <td>1910635</td>\n",
       "    </tr>\n",
       "    <tr>\n",
       "      <th>4</th>\n",
       "      <td>4</td>\n",
       "      <td>Bonnie Ray</td>\n",
       "      <td>F</td>\n",
       "      <td>9th</td>\n",
       "      <td>Huang High School</td>\n",
       "      <td>97</td>\n",
       "      <td>84</td>\n",
       "      <td>0</td>\n",
       "      <td>District</td>\n",
       "      <td>2917</td>\n",
       "      <td>1910635</td>\n",
       "    </tr>\n",
       "  </tbody>\n",
       "</table>\n",
       "</div>"
      ],
      "text/plain": [
       "   Student ID       student_name gender grade        school_name  \\\n",
       "0           0       Paul Bradley      M   9th  Huang High School   \n",
       "1           1       Victor Smith      M  12th  Huang High School   \n",
       "2           2    Kevin Rodriguez      M  12th  Huang High School   \n",
       "3           3  Dr. Richard Scott      M  12th  Huang High School   \n",
       "4           4         Bonnie Ray      F   9th  Huang High School   \n",
       "\n",
       "   reading_score  math_score  School ID      type  size   budget  \n",
       "0             66          79          0  District  2917  1910635  \n",
       "1             94          61          0  District  2917  1910635  \n",
       "2             90          60          0  District  2917  1910635  \n",
       "3             67          58          0  District  2917  1910635  \n",
       "4             97          84          0  District  2917  1910635  "
      ]
     },
     "execution_count": 2,
     "metadata": {},
     "output_type": "execute_result"
    }
   ],
   "source": [
    "# File to Load (Remember to Change These)\n",
    "school_data_to_load = \"Resources/schools_complete.csv\"\n",
    "student_data_to_load = \"Resources/students_complete.csv\"\n",
    "\n",
    "# Read School and Student Data File and store into Pandas DataFrames\n",
    "school_data = pd.read_csv(school_data_to_load)\n",
    "student_data = pd.read_csv(student_data_to_load)\n",
    "\n",
    "# Combine the data into a single dataset.  \n",
    "school_data_complete = pd.merge(student_data, school_data, how=\"left\", on=[\"school_name\", \"school_name\"])\n",
    "school_data_df = pd.DataFrame(school_data_complete)\n",
    "school_data_df.head()"
   ]
  },
  {
   "cell_type": "code",
   "execution_count": 22,
   "id": "7807e664",
   "metadata": {},
   "outputs": [],
   "source": [
    "# Check data types\n",
    "#school_data_df.dtypes"
   ]
  },
  {
   "cell_type": "code",
   "execution_count": 23,
   "id": "56af672b",
   "metadata": {},
   "outputs": [],
   "source": [
    "# Count to check any missing data\n",
    "#school_data_df.count()"
   ]
  },
  {
   "cell_type": "markdown",
   "id": "3cce0346",
   "metadata": {},
   "source": [
    "# District Summary\n",
    "\n",
    " * Calculate the total number of schools\n",
    "\n",
    " * Calculate the total number of students\n",
    "\n",
    " * Calculate the total budget\n",
    "\n",
    " * Calculate the average math score \n",
    "\n",
    " * Calculate the average reading score\n",
    "\n",
    " * Calculate the percentage of students with a passing math score (70 or greater)\n",
    "\n",
    " * Calculate the percentage of students with a passing reading score (70 or greater)\n",
    "\n",
    " * Calculate the percentage of students who passed math **and** reading (% Overall Passing)\n",
    "\n",
    "* Create a dataframe to hold the above results\n",
    "\n",
    " * Optional: give the displayed data cleaner formatting"
   ]
  },
  {
   "cell_type": "code",
   "execution_count": 5,
   "id": "ccbcd6e3",
   "metadata": {},
   "outputs": [],
   "source": [
    "#Calculate the total number of schools\n",
    "school_count = len(school_data_df[\"school_name\"].unique())"
   ]
  },
  {
   "cell_type": "code",
   "execution_count": 6,
   "id": "46980859",
   "metadata": {},
   "outputs": [],
   "source": [
    "#Calculate the total number of students\n",
    "student_count = school_data_df[\"Student ID\"].count()"
   ]
  },
  {
   "cell_type": "code",
   "execution_count": 7,
   "id": "98d0fbd7",
   "metadata": {},
   "outputs": [],
   "source": [
    "#Calculate the total budget\n",
    "total_budget = school_data_df[\"budget\"].sum()"
   ]
  },
  {
   "cell_type": "code",
   "execution_count": 8,
   "id": "ef972671",
   "metadata": {},
   "outputs": [],
   "source": [
    "#Calculate the average math score\n",
    "avg_math = school_data_df[\"math_score\"].mean()"
   ]
  },
  {
   "cell_type": "code",
   "execution_count": 9,
   "id": "7f211cb6",
   "metadata": {},
   "outputs": [],
   "source": [
    "#student_budget = school_budget / float(student_count)"
   ]
  },
  {
   "cell_type": "code",
   "execution_count": 10,
   "id": "00ceeee8",
   "metadata": {},
   "outputs": [],
   "source": [
    "#Calculate the average reading score\n",
    "avg_read = school_data_df[\"reading_score\"].mean()"
   ]
  },
  {
   "cell_type": "code",
   "execution_count": 11,
   "id": "db643edd",
   "metadata": {},
   "outputs": [],
   "source": [
    "#school_data_df[(school_data_df[\"math_score\"]>=70)].count()[0]"
   ]
  },
  {
   "cell_type": "code",
   "execution_count": 12,
   "id": "57a34e78",
   "metadata": {},
   "outputs": [],
   "source": [
    "#school_data_df.shape[0]"
   ]
  },
  {
   "cell_type": "code",
   "execution_count": 13,
   "id": "a0187700",
   "metadata": {},
   "outputs": [],
   "source": [
    "#Calculate the percentage of students with a passing math score (70 or greater)\n",
    "math_pass = (school_data_df[(school_data_df[\"math_score\"]>=70)].count()[0]/school_data_df.shape[0])*100"
   ]
  },
  {
   "cell_type": "code",
   "execution_count": 14,
   "id": "cd36c8f0",
   "metadata": {},
   "outputs": [
    {
     "data": {
      "text/plain": [
       "74.9808526933878"
      ]
     },
     "execution_count": 14,
     "metadata": {},
     "output_type": "execute_result"
    }
   ],
   "source": [
    "math_pass"
   ]
  },
  {
   "cell_type": "code",
   "execution_count": 15,
   "id": "1b48f53d",
   "metadata": {},
   "outputs": [],
   "source": [
    "#Calculate the percentage of students with a passing reading score (70 or greater)\n",
    "read_pass = (school_data_df[(school_data_df[\"reading_score\"]>=70)].count()[0]/school_data_df.shape[0])*100"
   ]
  },
  {
   "cell_type": "code",
   "execution_count": 16,
   "id": "19924bf8",
   "metadata": {},
   "outputs": [
    {
     "data": {
      "text/plain": [
       "85.80546336482001"
      ]
     },
     "execution_count": 16,
     "metadata": {},
     "output_type": "execute_result"
    }
   ],
   "source": [
    "read_pass"
   ]
  },
  {
   "cell_type": "code",
   "execution_count": 17,
   "id": "529c5a36",
   "metadata": {},
   "outputs": [],
   "source": [
    "#Calculate the percentage of students who passed math and reading (% Overall Passing)\n",
    "both_70 = (school_data_df[(school_data_df[\"math_score\"] >= 70) & (school_data_df[\"reading_score\"] >= 70)].count()[0]/school_data_df.shape[0])*100"
   ]
  },
  {
   "cell_type": "code",
   "execution_count": 18,
   "id": "0212d582",
   "metadata": {},
   "outputs": [
    {
     "data": {
      "text/plain": [
       "65.17232575950983"
      ]
     },
     "execution_count": 18,
     "metadata": {},
     "output_type": "execute_result"
    }
   ],
   "source": [
    "both_70"
   ]
  },
  {
   "cell_type": "code",
   "execution_count": 19,
   "id": "4788df48",
   "metadata": {},
   "outputs": [],
   "source": [
    "#Create a dataframe to hold the above results\n",
    "results_df = pd.DataFrame({'School Count': [school_count],'Student Count':[student_count],'Total Budget':[total_budget],'Average Math Score':[avg_math],'Average Reading Score':[avg_read],'Math Pass': [math_pass],'Read Pass': [read_pass],'Math and Reading Pass':[both_70]})"
   ]
  },
  {
   "cell_type": "code",
   "execution_count": 20,
   "id": "5eb4b846",
   "metadata": {},
   "outputs": [
    {
     "data": {
      "text/html": [
       "<div>\n",
       "<style scoped>\n",
       "    .dataframe tbody tr th:only-of-type {\n",
       "        vertical-align: middle;\n",
       "    }\n",
       "\n",
       "    .dataframe tbody tr th {\n",
       "        vertical-align: top;\n",
       "    }\n",
       "\n",
       "    .dataframe thead th {\n",
       "        text-align: right;\n",
       "    }\n",
       "</style>\n",
       "<table border=\"1\" class=\"dataframe\">\n",
       "  <thead>\n",
       "    <tr style=\"text-align: right;\">\n",
       "      <th></th>\n",
       "      <th>School Count</th>\n",
       "      <th>Student Count</th>\n",
       "      <th>Total Budget</th>\n",
       "      <th>Average Math Score</th>\n",
       "      <th>Average Reading Score</th>\n",
       "      <th>Math Pass</th>\n",
       "      <th>Read Pass</th>\n",
       "      <th>Math and Reading Pass</th>\n",
       "    </tr>\n",
       "  </thead>\n",
       "  <tbody>\n",
       "    <tr>\n",
       "      <th>0</th>\n",
       "      <td>15</td>\n",
       "      <td>39170</td>\n",
       "      <td>82932329558</td>\n",
       "      <td>78.985371</td>\n",
       "      <td>81.87784</td>\n",
       "      <td>74.980853</td>\n",
       "      <td>85.805463</td>\n",
       "      <td>65.172326</td>\n",
       "    </tr>\n",
       "  </tbody>\n",
       "</table>\n",
       "</div>"
      ],
      "text/plain": [
       "   School Count  Student Count  Total Budget  Average Math Score  \\\n",
       "0            15          39170   82932329558           78.985371   \n",
       "\n",
       "   Average Reading Score  Math Pass  Read Pass  Math and Reading Pass  \n",
       "0               81.87784  74.980853  85.805463              65.172326  "
      ]
     },
     "execution_count": 20,
     "metadata": {},
     "output_type": "execute_result"
    }
   ],
   "source": [
    "results_df"
   ]
  },
  {
   "cell_type": "markdown",
   "id": "d18b940c",
   "metadata": {},
   "source": [
    "## School Summary\n",
    "\n",
    " * Create an overview table that summarizes key metrics about each school, including:\n",
    "  * School Name\n",
    "   * School Type\n",
    "   * Total Students\n",
    "   * Total School Budget\n",
    "   * Per Student Budget\n",
    "   * Average Math Score\n",
    "   * Average Reading Score\n",
    "   * % Passing Math\n",
    "   * % Passing Reading\n",
    "   * % Overall Passing (The percentage of students that passed math **and** reading.)\n",
    "  \n",
    " * Create a dataframe to hold the above results"
   ]
  },
  {
   "cell_type": "code",
   "execution_count": null,
   "id": "f41758df",
   "metadata": {},
   "outputs": [],
   "source": [
    "school_name_df = school_data_df.set_index(\"school_name\")\n",
    "school_name_df.head()"
   ]
  },
  {
   "cell_type": "code",
   "execution_count": null,
   "id": "6f724430",
   "metadata": {},
   "outputs": [],
   "source": [
    "group_school_name = school_name_df.groupby([\"school_name\", \"type\"])\n",
    "group_school_name.count()"
   ]
  },
  {
   "cell_type": "code",
   "execution_count": null,
   "id": "e8b05183",
   "metadata": {},
   "outputs": [],
   "source": [
    "#Total Students per School\n",
    "tot_students_groupby_school = school_data_df.groupby(\"school_name\")[\"student_name\"].count()\n",
    "tot_students_groupby_school"
   ]
  },
  {
   "cell_type": "code",
   "execution_count": null,
   "id": "c31faec2",
   "metadata": {},
   "outputs": [],
   "source": [
    "#Total School Budget\n",
    "tot_budget_groupby_school = school_data_df.groupby(\"school_name\")[\"budget\"].sum()\n",
    "tot_budget_groupby_school"
   ]
  },
  {
   "cell_type": "code",
   "execution_count": null,
   "id": "0d70bffa",
   "metadata": {},
   "outputs": [],
   "source": [
    "#Per Student Budget\n",
    "tot_student_budget_groupby_school = school_data_df.groupby(\"school_name\")[\"budget\"].sum() / school_data_df.groupby(\"school_name\")[\"School ID\"].count()\n",
    "tot_student_budget_groupby_school"
   ]
  },
  {
   "cell_type": "code",
   "execution_count": null,
   "id": "772549d8",
   "metadata": {},
   "outputs": [],
   "source": [
    "#Average Math Score\n",
    "avg_school_math_groupby = school_data_df.groupby(\"school_name\")[\"math_score\"].mean()\n",
    "avg_school_math_groupby"
   ]
  },
  {
   "cell_type": "code",
   "execution_count": null,
   "id": "74e6dae2",
   "metadata": {},
   "outputs": [],
   "source": [
    "#Average Reading Score\n",
    "avg_school_read_groupby = school_data_df.groupby(\"school_name\")[\"reading_score\"].mean()\n",
    "avg_school_read_groupby"
   ]
  },
  {
   "cell_type": "code",
   "execution_count": null,
   "id": "368934e0",
   "metadata": {},
   "outputs": [],
   "source": [
    "#% Passing Math\n",
    "#math_70 = school_data_df[(school_data_df[\"math_score\"]>=70)].count()[\"student_name\"]\n",
    "pass_school_math_groupby = school_data_df[(school_data_df.groupby(\"school_name\")[\"math_score\"]>=70.count()[\"student_name\"]\n",
    "pass_school_math_groupby"
   ]
  },
  {
   "cell_type": "code",
   "execution_count": null,
   "id": "d4fffb9e",
   "metadata": {},
   "outputs": [],
   "source": [
    "#% Passing Reading\n"
   ]
  },
  {
   "cell_type": "code",
   "execution_count": null,
   "id": "83d3ebe1",
   "metadata": {},
   "outputs": [],
   "source": [
    "#% Overall Passing (The percentage of students that passed math and reading.)\n"
   ]
  },
  {
   "cell_type": "code",
   "execution_count": null,
   "id": "57086896",
   "metadata": {},
   "outputs": [],
   "source": [
    "#Create a dataframe to hold the above results\n"
   ]
  },
  {
   "cell_type": "markdown",
   "id": "6cad1b91",
   "metadata": {},
   "source": [
    "# Top Performing Schools (By % Overall Passing)\n",
    "    * Sort and display the top five performing schools by % overall passing."
   ]
  },
  {
   "cell_type": "code",
   "execution_count": null,
   "id": "b4fa39aa",
   "metadata": {},
   "outputs": [],
   "source": []
  },
  {
   "cell_type": "markdown",
   "id": "67279af1",
   "metadata": {},
   "source": [
    "## Bottom Performing Schools (By % Overall Passing)\n",
    "    * Sort and display the five worst-performing schools by % overall passing."
   ]
  },
  {
   "cell_type": "code",
   "execution_count": null,
   "id": "9f8d9622",
   "metadata": {},
   "outputs": [],
   "source": []
  },
  {
   "cell_type": "markdown",
   "id": "bb272e9e",
   "metadata": {},
   "source": [
    "## Math Scores by Grade\n",
    "* Create a table that lists the average Reading Score for students of each grade level (9th, 10th, 11th, 12th) at each school.\n",
    "\n",
    "  * Create a pandas series for each grade. Hint: use a conditional statement.\n",
    "  \n",
    "  * Group each series by school\n",
    "  \n",
    "  * Combine the series into a dataframe\n",
    "  \n",
    "  * Optional: give the displayed data cleaner formatting"
   ]
  },
  {
   "cell_type": "code",
   "execution_count": null,
   "id": "549b5afd",
   "metadata": {},
   "outputs": [],
   "source": []
  },
  {
   "cell_type": "markdown",
   "id": "f1a3352f",
   "metadata": {},
   "source": [
    "## Reading Score by Grade \n",
    "* Perform the same operations as above for reading scores"
   ]
  },
  {
   "cell_type": "code",
   "execution_count": null,
   "id": "1fe9c4a9",
   "metadata": {},
   "outputs": [],
   "source": []
  },
  {
   "cell_type": "code",
   "execution_count": null,
   "id": "7b2ee6dd",
   "metadata": {},
   "outputs": [],
   "source": [
    "## Scores by School Spending"
   ]
  },
  {
   "cell_type": "code",
   "execution_count": null,
   "id": "9c5c6102",
   "metadata": {},
   "outputs": [],
   "source": []
  },
  {
   "cell_type": "code",
   "execution_count": null,
   "id": "d7aee344",
   "metadata": {},
   "outputs": [],
   "source": [
    "* Create a table that breaks down school performances based on average Spending Ranges (Per Student). Use 4 reasonable bins to group school spending. Include in the table each of the following:\n",
    "  * Average Math Score\n",
    "  * Average Reading Score\n",
    "  * % Passing Math\n",
    "  * % Passing Reading\n",
    "  * Overall Passing Rate (Average of the above two)"
   ]
  },
  {
   "cell_type": "code",
   "execution_count": null,
   "id": "48652e28",
   "metadata": {},
   "outputs": [],
   "source": []
  },
  {
   "cell_type": "code",
   "execution_count": null,
   "id": "fbc88daf",
   "metadata": {},
   "outputs": [],
   "source": [
    "## Scores by School Size\n",
    "* Perform the same operations as above, based on school size."
   ]
  },
  {
   "cell_type": "code",
   "execution_count": null,
   "id": "37abc11c",
   "metadata": {},
   "outputs": [],
   "source": []
  },
  {
   "cell_type": "code",
   "execution_count": null,
   "id": "9edacdb9",
   "metadata": {},
   "outputs": [],
   "source": [
    "## Scores by School Type\n",
    "* Perform the same operations as above, based on school type"
   ]
  },
  {
   "cell_type": "code",
   "execution_count": null,
   "id": "d4018b39",
   "metadata": {},
   "outputs": [],
   "source": []
  }
 ],
 "metadata": {
  "kernelspec": {
   "display_name": "Python 3 (ipykernel)",
   "language": "python",
   "name": "python3"
  },
  "language_info": {
   "codemirror_mode": {
    "name": "ipython",
    "version": 3
   },
   "file_extension": ".py",
   "mimetype": "text/x-python",
   "name": "python",
   "nbconvert_exporter": "python",
   "pygments_lexer": "ipython3",
   "version": "3.9.12"
  }
 },
 "nbformat": 4,
 "nbformat_minor": 5
}
